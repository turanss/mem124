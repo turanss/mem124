{
 "cells": [
  {
   "cell_type": "code",
   "execution_count": null,
   "metadata": {},
   "outputs": [],
   "source": [
    "while True:\n",
    "    a=input(\"1-2-3 choose a number: \")\n",
    "    if a==\"1\":\n",
    "        print(\"this part is hipotenüs function in math topic\\n\")\n",
    "        a=float(input(\"you enter the edge of a,please\\n\"))\n",
    "        b=float(input(\"you enter the edge of b,please\\n\"))\n",
    "        HİPOTENÜS=((a**2+b**2)**0.5)\n",
    "        print(\"HİPOTENÜS=\",HİPOTENÜS)\n",
    "    elif a==\"2\":\n",
    "        n=float(input(\"you enter max. value\\n\"))\n",
    "        i=0\n",
    "        while i<=n:\n",
    "            print(\"i=\",i)\n",
    "            i+=1\n",
    "    elif a==\"3\":\n",
    "        A=float(input(\"you enter number 1,please\\n\"))\n",
    "        B=float(input(\"you enter number 2,please\\n\"))\n",
    "        C=float(input(\"you enter number 3,please\\n\"))\n",
    "        D=float(input(\"you enter number 4,please\\n\"))\n",
    "        E=float(input(\"you enter number 5,please\\n\"))\n",
    "        F=float(input(\"you enter number 6,please\\n\"))\n",
    "        average=(A+B+C+D+E+F)/6\n",
    "        print(\"average=\",average)\n",
    "    else:\n",
    "        print(\"1-2-3 değerlerinden birini seçmeniz lazım.\")"
   ]
  }
 ],
 "metadata": {
  "kernelspec": {
   "display_name": "Python 3",
   "language": "python",
   "name": "python3"
  },
  "language_info": {
   "codemirror_mode": {
    "name": "ipython",
    "version": 3
   },
   "file_extension": ".py",
   "mimetype": "text/x-python",
   "name": "python",
   "nbconvert_exporter": "python",
   "pygments_lexer": "ipython3",
   "version": "3.7.0"
  }
 },
 "nbformat": 4,
 "nbformat_minor": 2
}
