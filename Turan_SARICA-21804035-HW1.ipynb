{
 "cells": [
  {
   "cell_type": "code",
   "execution_count": 24,
   "metadata": {},
   "outputs": [
    {
     "name": "stdout",
     "output_type": "stream",
     "text": [
      "Enter first value=2\n",
      "Enter second value=3\n",
      "Enter third value=5\n",
      "discriminant= -31\n",
      "x1= (-2.9999999999999996+5.5677643628300215j)\n",
      "x2= (-3.0000000000000004-5.5677643628300215j)\n"
     ]
    }
   ],
   "source": [
    "a=int(input(\"Enter first value=\"))\n",
    "b=int(input(\"Enter second value=\"))\n",
    "c=int(input(\"Enter third value=\"))\n",
    "dis=b**2-4*a*c\n",
    "x1=(-1*b+dis**0.5)/2*a\n",
    "x2=(-1*b-dis**0.5)/2*a\n",
    "print(\"discriminant=\",dis)\n",
    "print(\"x1=\",x1)\n",
    "print(\"x2=\",x2)"
   ]
  },
  {
   "cell_type": "markdown",
   "metadata": {},
   "source": []
  },
  {
   "cell_type": "markdown",
   "metadata": {},
   "source": [
    "\n"
   ]
  },
  {
   "cell_type": "code",
   "execution_count": null,
   "metadata": {},
   "outputs": [],
   "source": []
  },
  {
   "cell_type": "code",
   "execution_count": null,
   "metadata": {},
   "outputs": [],
   "source": [
    "a\n"
   ]
  }
 ],
 "metadata": {
  "kernelspec": {
   "display_name": "Python 3",
   "language": "python",
   "name": "python3"
  },
  "language_info": {
   "codemirror_mode": {
    "name": "ipython",
    "version": 3
   },
   "file_extension": ".py",
   "mimetype": "text/x-python",
   "name": "python",
   "nbconvert_exporter": "python",
   "pygments_lexer": "ipython3",
   "version": "3.6.5"
  }
 },
 "nbformat": 4,
 "nbformat_minor": 2
}
